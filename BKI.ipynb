{
  "nbformat": 4,
  "nbformat_minor": 0,
  "metadata": {
    "colab": {
      "provenance": []
    },
    "kernelspec": {
      "name": "python3",
      "display_name": "Python 3"
    },
    "language_info": {
      "name": "python"
    }
  },
  "cells": [
    {
      "cell_type": "code",
      "source": [
        "from eigSVD import eigsvd"
      ],
      "metadata": {
        "id": "odckdOkAdMT4"
      },
      "execution_count": 27,
      "outputs": []
    },
    {
      "cell_type": "code",
      "source": [
        "import numpy as np"
      ],
      "metadata": {
        "id": "ay7-nIOiO6C4"
      },
      "execution_count": 28,
      "outputs": []
    },
    {
      "cell_type": "code",
      "source": [
        "from scipy.linalg import lu, qr, svd, orth"
      ],
      "metadata": {
        "id": "wg_-IibzgRFR"
      },
      "execution_count": 29,
      "outputs": []
    },
    {
      "cell_type": "code",
      "source": [
        "from numpy.linalg import LinAlgError"
      ],
      "metadata": {
        "id": "u3Ohq1OIim2R"
      },
      "execution_count": 30,
      "outputs": []
    },
    {
      "cell_type": "code",
      "source": [
        "def lu_my(A):\n",
        "    n = A.shape[0]\n",
        "    U = A.copy()\n",
        "    L = np.eye(n, dtype=np.double)\n",
        "    for i in range(n):\n",
        "        factor = U[i+1:, i] / U[i, i]\n",
        "        L[i+1:, i] = factor\n",
        "        U[i+1:] -= factor[:, np.newaxis] * U[i]\n",
        "    return L, U"
      ],
      "metadata": {
        "id": "J738s7kpTq2J"
      },
      "execution_count": 31,
      "outputs": []
    },
    {
      "cell_type": "code",
      "source": [
        "def lu_my_with_permute(A):\n",
        "    n = A.shape[0]\n",
        "    U = A.copy()\n",
        "    L = np.eye(n, dtype=np.double)\n",
        "    P = np.eye(n, dtype=np.double)  # Initialize the permutation matrix P\n",
        "    for i in range(n):\n",
        "        # Find the pivot row (row with the maximum absolute value in the current column)\n",
        "        pivot_row = np.argmax(np.abs(U[i:, i])) + i\n",
        "\n",
        "        # Swap rows in U and L to perform pivoting\n",
        "        U[[i, pivot_row]] = U[[pivot_row, i]]\n",
        "        L[[i, pivot_row]] = L[[pivot_row, i]]\n",
        "        P[[i, pivot_row]] = P[[pivot_row, i]]\n",
        "\n",
        "        factor = U[i+1:, i] / U[i, i]\n",
        "        L[i+1:, i] = factor\n",
        "        U[i+1:] -= factor[:, np.newaxis] * U[i]\n",
        "\n",
        "\n",
        "    #return np.dot(P.T,L),\n",
        "    return l, u"
      ],
      "metadata": {
        "id": "hQctk1EFiaB1"
      },
      "execution_count": 32,
      "outputs": []
    },
    {
      "cell_type": "code",
      "execution_count": 33,
      "metadata": {
        "id": "dcR6iiTNNeGU"
      },
      "outputs": [],
      "source": [
        "def rSVDBKI(A, k, p, s=5):\n",
        "    m, n = A.shape\n",
        "\n",
        "    if s <= 5:\n",
        "        s = 5\n",
        "\n",
        "    O = np.random.randn(n, k+s)\n",
        "\n",
        "    tmp = np.dot(A, O)\n",
        "    H0, _ = lu(tmp, permute_l=True)\n",
        "    H = np.array(H0)\n",
        "    Hi = H0\n",
        "    for i in range(1, p+1):\n",
        "        Hi, _ = lu(np.dot(A, np.dot(A.T, Hi)), permute_l=True)\n",
        "        H = np.hstack((H, Hi))\n",
        "\n",
        "    Q = orth(H)\n",
        "    B = np.dot(Q.T, A)\n",
        "\n",
        "    V, S, U = eigsvd(B.T)\n",
        "\n",
        "    ind = slice((k+s)*(p+1)-k+1,(k+s)*(p+1))\n",
        "\n",
        "    U, S, V = np.dot(Q, U)[:, ind], S[ind, ind], V[:, ind]\n",
        "\n",
        "    return U, S, V"
      ]
    },
    {
      "cell_type": "code",
      "source": [],
      "metadata": {
        "id": "3qIsTsaPg_Se"
      },
      "execution_count": null,
      "outputs": []
    }
  ]
}